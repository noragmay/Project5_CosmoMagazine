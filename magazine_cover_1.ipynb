{
 "cells": [
  {
   "cell_type": "code",
   "execution_count": 2,
   "metadata": {},
   "outputs": [],
   "source": [
    "import pandas as pd \n",
    "import numpy as np\n",
    "import PyPDF2 \n",
    "import textract\n",
    "from nltk.tokenize import word_tokenize\n",
    "from nltk.corpus import stopwords"
   ]
  },
  {
   "cell_type": "code",
   "execution_count": 15,
   "metadata": {},
   "outputs": [],
   "source": [
    "#https://medium.com/@rqaiserr/how-to-convert-pdfs-into-searchable-key-words-with-python-85aab86c544f\n",
    "#write a for-loop to open many files \n",
    "filename = '/Users/noramay/Downloads/Cosmo_conversation_starters.pdf' \n",
    "#'/Users/noramay/Downloads/ProQuestDocuments-2019-03-08.pdf' \n",
    "#open allows you to read the file\n",
    "pdfFileObj = open(filename,'rb')\n",
    "#The pdfReader variable is a readable object that will be parsed\n",
    "pdfReader = PyPDF2.PdfFileReader(pdfFileObj)\n",
    "#discerning the number of pages will allow us to parse through all #the pages\n",
    "num_pages = pdfReader.numPages\n",
    "count = 0\n",
    "texts = []\n",
    "#The while loop will read pages in groups of 3\n",
    "while count < 1:\n",
    "    text = \"\"\n",
    "#    for _ in [0]:\n",
    "    pageObj = pdfReader.getPage(count)\n",
    "    text += pageObj.extractText()\n",
    "    text = textract.process(filename, method='tesseract', language='eng')\n",
    "\n",
    "    texts.append(text)\n",
    "    count += 1\n"
   ]
  },
  {
   "cell_type": "code",
   "execution_count": 16,
   "metadata": {},
   "outputs": [
    {
     "data": {
      "text/plain": [
       "[b\"Cosmo conversation starters Cosmopolitan; Dec 2005; 239, 6; Women's Magazine Archive pg. 248\\n\\nWho hasn't been strapped for a perfect\\nicebreaker? These tidbits will make you\\nthe most interesting person in the room.\\n\\nty Images fr Yee, Time & Life Pictures/ Getty Images Jeffrey Mayer/Wirelmage.\\n\\n \\n\\n(top to bottom, from left) TAMARA SCHLESINGER. Alamy Imag\\n\\n      \\n\\n248 cosmopouiran DecemaeR 2005,\\n\\nCopyigh \\xc3\\x82\\xc5\\xa0 2015 Pune C. Al igh esaved,\\n\\x0c\"]"
      ]
     },
     "execution_count": 16,
     "metadata": {},
     "output_type": "execute_result"
    }
   ],
   "source": [
    "texts"
   ]
  },
  {
   "cell_type": "code",
   "execution_count": 95,
   "metadata": {},
   "outputs": [
    {
     "name": "stdout",
     "output_type": "stream",
     "text": [
      "b'Covers Cosmopolitan; Nov 1976; 181,\n",
      "\n",
      "Rediscover Sex\n",
      "With Your Husband\n",
      "(or Wife):\n",
      "\n",
      "the Last Frontier\n",
      "\n",
      "of Eroticism.\n",
      "\n",
      "One Woman's\n",
      "Dynamite Story\n",
      "\n",
      "Robert Mitchumâ\n",
      "Tender, Profane,\n",
      "Sometimes Mean,\n",
      "but Always Male\n",
      "\n",
      "Super Skiing:\n",
      "NVR IRC:lanre I.\n",
      "WKN cy CloMielits apy\n",
      "World on the Â» 4\n",
      "\n",
      "DownhillSlopeâ\n",
      "\n",
      "You Can Lose\n",
      "(Safely) 10 Pounds |\n",
      "in 10 Days\n",
      "\n",
      "With This .\n",
      "(Not Hard to Take) â¢\n",
      "Vitamin-Rich\n",
      "\n",
      "INEM) (ey\n",
      "\n",
      "y dT\n",
      "\n",
      "AM (a\n",
      "\n",
      "nN\n",
      "\n",
      "5; Women's Magazine Archive pg. 0\n",
      "\n",
      "November 1976 e $1.25\n",
      "\n",
      "ieUlaele AV atett\n",
      "They Say About\n",
      "Truck Drivers?\n",
      "\n",
      "What Happens\n",
      "When You Answer\n",
      "an Ad for a Map\n",
      "\n",
      "How to Be Loved\n",
      "and Belong\n",
      "to Someone\n",
      "\n",
      "The Trade Secrets\n",
      "ae of the\n",
      "Sexiest Ladies\n",
      "\n",
      "in History\n",
      "\n",
      "Plus a Wondrous\n",
      "Autumn Novel,\n",
      "The Jeweled\n",
      "Daughter,\n",
      "\n",
      "and a Superbly\n",
      "Romantic\n",
      "\n",
      "Short Story,\n",
      "\n",
      "East of Third and\n",
      "West of the Moon\n",
      "\n",
      " \n",
      "\f",
      "When your complexion\n",
      "has something to hide...\n",
      "\n",
      "erace'it:\n",
      "\n",
      "Don't let dark circles, tired\n",
      "\n",
      "Tat olmar Cava l(a\n",
      "\n",
      "spoil your day. ERACE them\n",
      "\n",
      "with this clever little\n",
      "\n",
      "cover-up stick. One quick\n",
      "\n",
      "and creamy stroke conceals\n",
      "instantly!\n",
      "\n",
      "eee\n",
      "\n",
      "eraceâ..b\n",
      "sometimes\n",
      "\n",
      "we all have\n",
      "Prete ui\n",
      "\n",
      "to hide\n",
      "\n",
      "Max Factor\n",
      "\n",
      "Copyright Â© 2015 PotQuee LC. Al his essed\n",
      "\n",
      " \n",
      "\n",
      "NOVEMBER 1976\n",
      "\n",
      "rial Offices: 224 West 57th Street, New York, N.Y. 10019. Published\n",
      "Since Taee, Advertiing Gices\" 228 West o7th Strect, New York, NÂ¥- 10099\n",
      "\n",
      "Photograph of Clotilde by Francesco Scavullo. Hair and make-\n",
      "up by Horry Von Wijnberge for Almay: \"Red Nutmegâ Dewy\n",
      "Blushing Powder; âBronzewood Gloss\" Lipstick; âSmoky\n",
      "Walnutâ and âGolden Birchâ Eye Shadow. Dress by Loris\n",
      "Azzaro. Jewelry by M & J Savitt. Cover styled by Sean Byrnes.\n",
      "\n",
      "OSMOPOLITAN\n",
      "\n",
      "  \n",
      "\n",
      "Articles\n",
      "\n",
      "194 Robert Mitchum: Funky, Funny, Tender, Profane Â« Thomas Thompson\n",
      "198 Celebrity Interviewers: The Stories They've Never Told * John Bowers\n",
      "204 The Miracle of Sexual Rediscovery + Maggie Solay\n",
      "\n",
      "222 Would You Believe It, Dying Could Be More Fun! + James Horwitz\n",
      "226 How to Be Loved + W. W. Broadbent, M.D.\n",
      "\n",
      "232 Those Keep-On Truckers Â« Larry L. King 5\n",
      "242 Super Skiing: Upward Mobile on the Downhill Slope + Catherine Breslin\n",
      "248 The Lose-Ten-Pounds-in-Ten-Days Diet\n",
      "\n",
      " \n",
      "\n",
      "Fiction\n",
      "\n",
      "256 East of Third and West of the Moon + Eleanor Hyde\n",
      "\n",
      " \n",
      "\n",
      "Novel\n",
      "\n",
      "258 The Jeweled Daughter - Anne Maybury\n",
      "\n",
      " \n",
      "\n",
      "Features\n",
      "\n",
      "44 Margaux Hemingway: Starting at the Top Â« Gregg Kilday\n",
      "84 Trade Secrets (Sexy Ladies of History) Beverly Karp\n",
      "\n",
      "100 After-Theater Snacking at Home Â« Doris Tobias\n",
      "\n",
      "104 A Guide to Sexual Surgery + Seymour Isenberg and L. Melvin Elting\n",
      "\n",
      "114 How | Didn't Find Him Through the Personals Â« Kristi Witker\n",
      "\n",
      "126 Do You Swear Too Much? - Marcia Kamien\n",
      "\n",
      "134 An Overdose of Mother Love - Kenneth Howard\n",
      "\n",
      "146 Do You Have Political Potential? (Quiz) - Carole Hay\n",
      "\n",
      "166 The Mystery of Love - Florence Hamlish Levinsohn\n",
      "\n",
      "170 Liberation Breeds Rotten Kids - Colette Dowling\n",
      "\n",
      "188 Party Punch Lines (Cartoons)\n",
      "\n",
      "190 How Do You Handle Depression? (Roundup) + Terry Clifford\n",
      "\n",
      "238 Celebrities and Their Pets\n",
      "\n",
      " \n",
      "\n",
      "Beauty and Fashion\n",
      "\n",
      "156 Beauty Bar: How to Have Sexy Feet\n",
      "\n",
      "206 Beauty: Two Dowdy Girls Turn Out Devastating in a Double Makeover\n",
      "+ Mallen DeSantis\n",
      "\n",
      "210 Fashion: Blues in the Night - Nancy Benson\n",
      "\n",
      " \n",
      "\n",
      "Departments\n",
      "8\n",
      "\n",
      "Food and Decorating\n",
      "\n",
      "160 Supper for Four: Make a Hearty Stew\n",
      "234 Decorating: Pretty Is Back! + Ellen Levine\n",
      "\n",
      "Step Into My Parlor - Helen Gurley Brown\n",
      "\n",
      "16 COSMO Goes to the Movies + Liz Smith\n",
      "\n",
      "22 Your Body Â» Elizabeth Morgan, M.D.\n",
      "\n",
      "28 November Horoscope - Ursula Merope\n",
      "\n",
      "38 Scorpio Personality Profile * Lila Spencer\n",
      "\n",
      "42 The Travel Bug - Roberta Ashley\n",
      "\n",
      "60 Dieter's Notebook - Ellen Roddick\n",
      "\n",
      "72 Speakeasy\n",
      "\n",
      "74 COSMO Listens to Records + Nat Hentoff\n",
      "\n",
      "76 Analystâs Couch + William S. Appleton, M.D,\n",
      "\n",
      "80 COSMO Reads the New Books : Jane Clapperton\n",
      "Heh erausiNew + What It Does for You\n",
      "\n",
      "âOS ells All - Barbara Creaturo and Robi\n",
      "\n",
      "307 Dear COSMOPOLITAN 0 en\n",
      "\n",
      " \n",
      "\n",
      " \n",
      "\n",
      " \n",
      "\n",
      "ee c aE aatica\n",
      "\n",
      " \n",
      "\f",
      "'\n"
     ]
    }
   ],
   "source": [
    "print(str(text2).encode('ascii', 'ignore').decode('unicode_escape'))"
   ]
  },
  {
   "cell_type": "code",
   "execution_count": 42,
   "metadata": {},
   "outputs": [
    {
     "data": {
      "text/plain": [
       "b\"Covers Cosmopolitan; Dec 1971\\n\\n, 6; Women's Magazine Archive pg. 0\\n\\nRST Ol\\n\\nJack Nicholson:\\n_Finally\\na Superstar ee\\nsaan Le\\n\\nHow to Spot\\na Passionate Man\\n(or Woman)\\n\\nWhat You Should\\nKnow About\\nMood-Changing\\nDrugs (Even\\n\\nif a Doctor\\nPrescribes One)\\n\\nStaying Young\\nNA Tita aco)\\nRaw Food\\n\\nThe Awful Plight.\\nof the\\nHandsome Man\\n\\nSuper Models:\\nNVdateta al Lore\\nStripping Away\\nthe Fantasy\\n\\n1B -Terolas) otal CAR RM 20)\\n\\nWhen He\\xe2\\x80\\x99s Rich\\n(and You Aren\\xe2\\x80\\x99t)\\nor You're\\nSupporting alata\\nWhat Too\\n\\nMuch Money\\n\\n(or Too Little)\\nCanDotoa\\nRelationship\\n\\nHow Honest\\nAre You? (Quiz)\\n\\nHow to Give\\n(and Get) Love\\nfor Christmas\\n\\nDeliciously\\nSensuous Novel,\\nMaking Ends Meet;\\nLen Deighton\\xe2\\x80\\x99s\\nThriller-Chiller,\\nCatch a Falling Spy\\n\\n \\n\\x0cSirsa Colter elon)\\nhas something to hide...\\n\\nDon't let dark circles, tired\\nlines or nasty blemishes\\nspoil your day. ERACE them\\nwith this clever little\\ncover-up stick. One quick\\nand creamy stroke conceals\\nElmers claa nal\\n\\nerace\\xe2\\x80\\x99 Ss\\nRta\\n\\nMr ENS\\nsomething\\n\\nto hide\\n\\n \\n\\nCopyright\\xc2\\xae 2015 Potues! LC. Al igh resnvad\\n\\nDECEMBER 1976\\n\\nCOSMOPOLITAN\\n\\nEditorial Offices: 224 West 57th Street, New York, N.Y. 10019, Published\\nsince 1886. Advertising Offices: 224 West 57th Street, New York, N.Y. 10019\\n\\nPhotograph of Ren\\xc3\\xa9 Russo by Francesco Scavullo. Hairstyling\\nby Harry Von Wijnberge. Makeup by Way Bandy for Avon's\\nCandid collection: \\xe2\\x80\\x9cRustic Red\\xe2\\x80\\x9d Lip Color; \\xe2\\x80\\x9cSpiced Cider\\xe2\\x80\\x9d\\nCheek Color; \\xe2\\x80\\x9cPewter\\xe2\\x80\\x9d Eye Color. Dress by Oscar de Ja Renta,\\nJewelry by Bulgari. Cover styled by Sean Byrnes.\\n\\n \\n\\n \\n\\n \\n\\n \\n\\nArticles\\n178 Jack Nicholson: Bankable and Brilliant - Leo Janos\\n182 A Profile of Passion - David Shaber\\n204 Legal Drugs: The Mood Business - Maya Pines\\n208 Super Models - Alice Kosner\\n| 216 The People Who Make TV Shows - Bob Shanks\\n224 Men, Women, and Money \\xc2\\xab Phyllis Penn\\n230 The Surprising Plight of the Handsome, Handsome Man \\xc2\\xab Paul Solomon\\nFiction\\n236 Making Ends Meet + Barbara Howar\\n241 Legend for a Painting + Julia O'Faolain\\nNovel\\n| 242 Catch a Falling Spy + Len Deighton\\nPeete\\n70 Joyce Brothers: The Real Dr. Feelgood + Guy Flatley\\n78 The Splendid Art of Gift Giving + Elin Schoen\\n86 The Urge to Cuddle + Karen Levine\\n92 Being Alone and Being With People\\xe2\\x80\\x94Happily - Martin Shepard, M.D.\\n104 How to Stay Young With Living Foods - Ivan Popov, M.D.\\n132 Touring Central America - Vicki Lindner\\n140 How Honest Are You? (Quiz) - Junius Adams\\n144 Cosmo's Dictionary of After-Dinner Drinks + Nancy Winters\\n158 Yes, Yes, a Thousand Times Yes - Dale Burg\\n\\n \\n\\nBeauty and Fashion\\n58 Beauty Bar: Glorious Gifts!\\n184 Beauty: Love Yourself. . .\\n\\n+ Mallen DeSantis\\n| 188 Fashion: Love Your Man. .\\n196 Fashion: Love Your Man\\n\\nBe a Beautiful Person for Christmas!\\n\\n. Be His Christmas Angel - Nancy Benson\\n\\xc2\\xbb Give Him Something to Wear\\n\\n \\n\\n \\n\\n \\n\\n| Food and Decorating\\n116 Dinner for Four: Christmas Curry\\n198 Decorating: Love Your Family . . . Wrap Them Crafty Gifts\\n200 Food: Love Your Friends . . . Give a Party in Your Bedroom = Ellen Levine\\n202 Decorating: Love Your Home. . . Trim a Special Tree + Eleanor Fairclough\\n\\n \\n\\n| CaS et\\n\\nStep Into My Parlor - Helen Gurley Brown\\n16 COSMO Goes to the Movies + Liz Smith\\n28 December Horoscope - Ursula Merope\\n40 Sagittarius Personality Profile \\xc2\\xbb Lila Spencer\\nSpeakeasy\\nCOSMO Reads the New Books - Jane Clapperton\\n48 COSMO Listens to Records - Nat Hentoff\\n54 Your Body \\xc2\\xab Elizabeth Morgan, M.D.\\n60 Analyst's Couch - William $. Appleton, M.D.\\n90 Dieter's Notebook + Ellen Roddick\\n\\n \\n\\n110 The Travel Bug + Roberta Ashley\\n\\n118 What's New + What It Does for You\\n\\n126 COSMO Tells All + Barbara Creaturo and Robin Bernstein\\n288 Dear COSMOPOLITAN\\n\\n \\n\\n    \\n\\niene LUsToN Vice PResrDENT\\n\\n \\n\\n \\n\\n \\n\\x0c\""
      ]
     },
     "execution_count": 42,
     "metadata": {},
     "output_type": "execute_result"
    }
   ],
   "source": [
    "text"
   ]
  },
  {
   "cell_type": "code",
   "execution_count": 32,
   "metadata": {},
   "outputs": [],
   "source": [
    "import re\n",
    "import string"
   ]
  },
  {
   "cell_type": "code",
   "execution_count": 3,
   "metadata": {},
   "outputs": [],
   "source": [
    "import pickle\n",
    "file = open(\"mag_df.pkl\",'rb')\n",
    "object_file = pickle.load(file)"
   ]
  },
  {
   "cell_type": "code",
   "execution_count": 22,
   "metadata": {},
   "outputs": [],
   "source": [
    "file = open(\"mar18_3.pkl\",'rb')\n",
    "object_file = pickle.load(file)"
   ]
  },
  {
   "cell_type": "code",
   "execution_count": 43,
   "metadata": {},
   "outputs": [],
   "source": [
    "file = open(\"mar18_4.pkl\",'rb')\n",
    "object_file = pickle.load(file)"
   ]
  },
  {
   "cell_type": "code",
   "execution_count": 44,
   "metadata": {},
   "outputs": [],
   "source": [
    "object_file = clean_scraped(object_file)"
   ]
  },
  {
   "cell_type": "code",
   "execution_count": 45,
   "metadata": {},
   "outputs": [],
   "source": [
    "punc_lower = lambda x: re.sub('[%s]' % re.escape(string.punctuation), ' ', x.lower())\n",
    "no_num = lambda x: re.sub('\\w*\\d\\w*', ' ', x)"
   ]
  },
  {
   "cell_type": "code",
   "execution_count": 46,
   "metadata": {},
   "outputs": [],
   "source": [
    "import re\n",
    "import string\n",
    "object_file['cov_text'] = object_file['cov_text'].map(punc_lower).map(no_num)"
   ]
  },
  {
   "cell_type": "code",
   "execution_count": 47,
   "metadata": {},
   "outputs": [],
   "source": [
    "mar_18_2 = object_file"
   ]
  },
  {
   "cell_type": "code",
   "execution_count": 42,
   "metadata": {},
   "outputs": [],
   "source": [
    "mar_18_2.to_pickle('mar_18_2.pkl')"
   ]
  },
  {
   "cell_type": "code",
   "execution_count": 16,
   "metadata": {},
   "outputs": [],
   "source": [
    "def clean_scraped(df):\n",
    "    df['cov_text'] = df['cov_text'].str.replace('\\\\n',' ')\n",
    "    df['cov_text'] = df['cov_text'].str.replace('\\n','')\n",
    "    df['cov_text'] = df['cov_text'].str.replace('\\n\\n',' ')\n",
    "    df['cov_text'] = df['cov_text'].str.replace(\"\\\\'\",'')\n",
    "    df['cov_text'] = df['cov_text'].str.replace(\"b\\'\",'')\n",
    " \n",
    "    return df"
   ]
  },
  {
   "cell_type": "code",
   "execution_count": 11,
   "metadata": {},
   "outputs": [],
   "source": [
    "punc_lower = lambda x: re.sub('[%s]' % re.escape(string.punctuation), ' ', x.lower())\n",
    "no_num = lambda x: re.sub('\\w*\\d\\w*', ' ', x)\n",
    "text = lambda x: re.sub('(\\\\\\\\x)\\w+','', x)"
   ]
  },
  {
   "cell_type": "code",
   "execution_count": 53,
   "metadata": {},
   "outputs": [
    {
     "data": {
      "text/plain": [
       "'         youve never thought of  without flatabs me es     ve   rage   a ferlings  “ th hworkfael cis selfie special      it  ie  nofilter oe h ll beauty tricks pa'"
      ]
     },
     "execution_count": 53,
     "metadata": {},
     "output_type": "execute_result"
    }
   ],
   "source": [
    "object_file.cov_text[0]"
   ]
  },
  {
   "cell_type": "code",
   "execution_count": 54,
   "metadata": {},
   "outputs": [
    {
     "data": {
      "text/plain": [
       "'        youve never thought of  without flatabs ue es     ve   rage ae ah ee ferlings  “ th hworkfael isis selfie special      it  ie  nofilter oe h ll beauty tricks pa'"
      ]
     },
     "execution_count": 54,
     "metadata": {},
     "output_type": "execute_result"
    }
   ],
   "source": [
    "'        youve never thought of  without flatabs ue es     ve   rage ae ah ee ferlings  “ th hworkfael isis selfie special      it  ie  nofilter oe h ll beauty tricks pa'"
   ]
  },
  {
   "cell_type": "code",
   "execution_count": 144,
   "metadata": {},
   "outputs": [],
   "source": [
    "text_clean = clean_scraped(text)\n",
    "text2_clean = clean_scraped(text2)\n",
    "print(text2_clean.encode('ascii', 'ignore').decode('unicode_escape'))"
   ]
  },
  {
   "cell_type": "code",
   "execution_count": null,
   "metadata": {},
   "outputs": [],
   "source": [
    "cover_text_df = pd.DataFrame(columns=['pub_date','full_text'])"
   ]
  },
  {
   "cell_type": "code",
   "execution_count": null,
   "metadata": {},
   "outputs": [],
   "source": [
    "#https://www.pyimagesearch.com/2017/07/10/using-tesseract-ocr-python/"
   ]
  },
  {
   "cell_type": "code",
   "execution_count": 26,
   "metadata": {},
   "outputs": [],
   "source": [
    "from PIL import Image\n",
    "import pytesseract\n",
    "import argparse\n",
    "import cv2\n",
    "import os"
   ]
  },
  {
   "cell_type": "code",
   "execution_count": 176,
   "metadata": {},
   "outputs": [],
   "source": [
    "parser = argparse.ArgumentParser(\n",
    "        description='get text from pdf')\n",
    "\n",
    "parser.add_argument(\n",
    "        '-i',\n",
    "        '--image',\n",
    "        help='Path for image file.'\n",
    "    )\n",
    "\n",
    "parser.add_argument(\n",
    "        '-p',\n",
    "        '--preprocess',\n",
    "        help='Path for image file.'\n",
    "    )\n",
    "\n",
    "\n",
    "args = parser.parse_args(\"--image '/Users/noramay/Downloads/ProQuestDocuments-2019-03-08.jpeg' --preprocess 'blur'\".split())"
   ]
  },
  {
   "cell_type": "code",
   "execution_count": 179,
   "metadata": {},
   "outputs": [
    {
     "data": {
      "text/plain": [
       "Namespace(image=\"'/Users/noramay/Downloads/ProQuestDocuments-2019-03-08.jpeg'\", preprocess=\"'blur'\")"
      ]
     },
     "execution_count": 179,
     "metadata": {},
     "output_type": "execute_result"
    }
   ],
   "source": [
    "args\n"
   ]
  },
  {
   "cell_type": "code",
   "execution_count": 178,
   "metadata": {},
   "outputs": [
    {
     "ename": "error",
     "evalue": "OpenCV(4.0.0) /Users/travis/build/skvark/opencv-python/opencv/modules/imgproc/src/color.cpp:181: error: (-215:Assertion failed) !_src.empty() in function 'cvtColor'\n",
     "output_type": "error",
     "traceback": [
      "\u001b[0;31m---------------------------------------------------------------------------\u001b[0m",
      "\u001b[0;31merror\u001b[0m                                     Traceback (most recent call last)",
      "\u001b[0;32m<ipython-input-178-8da1a85a1c10>\u001b[0m in \u001b[0;36m<module>\u001b[0;34m\u001b[0m\n\u001b[1;32m      1\u001b[0m \u001b[0;31m# load the example image and convert it to grayscale\u001b[0m\u001b[0;34m\u001b[0m\u001b[0;34m\u001b[0m\u001b[0;34m\u001b[0m\u001b[0m\n\u001b[1;32m      2\u001b[0m \u001b[0mimages\u001b[0m \u001b[0;34m=\u001b[0m \u001b[0mcv2\u001b[0m\u001b[0;34m.\u001b[0m\u001b[0mimread\u001b[0m\u001b[0;34m(\u001b[0m\u001b[0margs\u001b[0m\u001b[0;34m.\u001b[0m\u001b[0mimage\u001b[0m\u001b[0;34m)\u001b[0m\u001b[0;34m\u001b[0m\u001b[0;34m\u001b[0m\u001b[0m\n\u001b[0;32m----> 3\u001b[0;31m \u001b[0mgray\u001b[0m \u001b[0;34m=\u001b[0m \u001b[0mcv2\u001b[0m\u001b[0;34m.\u001b[0m\u001b[0mcvtColor\u001b[0m\u001b[0;34m(\u001b[0m\u001b[0mimages\u001b[0m\u001b[0;34m,\u001b[0m \u001b[0mcv2\u001b[0m\u001b[0;34m.\u001b[0m\u001b[0mCOLOR_BGR2GRAY\u001b[0m\u001b[0;34m)\u001b[0m\u001b[0;34m\u001b[0m\u001b[0;34m\u001b[0m\u001b[0m\n\u001b[0m\u001b[1;32m      4\u001b[0m \u001b[0;34m\u001b[0m\u001b[0m\n\u001b[1;32m      5\u001b[0m \u001b[0;31m# check to see if we should apply thresholding to preprocess the\u001b[0m\u001b[0;34m\u001b[0m\u001b[0;34m\u001b[0m\u001b[0;34m\u001b[0m\u001b[0m\n",
      "\u001b[0;31merror\u001b[0m: OpenCV(4.0.0) /Users/travis/build/skvark/opencv-python/opencv/modules/imgproc/src/color.cpp:181: error: (-215:Assertion failed) !_src.empty() in function 'cvtColor'\n"
     ]
    }
   ],
   "source": [
    "# load the example image and convert it to grayscale\n",
    "images = cv2.imread(args.image)\n",
    "gray = cv2.cvtColor(images, cv2.COLOR_BGR2GRAY)\n",
    " \n",
    "# check to see if we should apply thresholding to preprocess the\n",
    "# image\n",
    "if args[\"preprocess\"] == \"thresh\":\n",
    "    gray = cv2.threshold(gray, 0, 255,\n",
    "        cv2.THRESH_BINARY | cv2.THRESH_OTSU)[1]\n",
    " \n",
    "# noise\n",
    "elif args[\"preprocess\"] == \"blur\":\n",
    "    gray = cv2.medianBlur(gray, 3)\n",
    " \n",
    "# write the grayscale image to disk as a temporary file so we can\n",
    "# apply OCR to it\n",
    "filename = \"{}.png\".format(os.getpid())\n",
    "cv2.imwrite(filename, gray)"
   ]
  },
  {
   "cell_type": "code",
   "execution_count": 180,
   "metadata": {
    "scrolled": true
   },
   "outputs": [
    {
     "ename": "NameError",
     "evalue": "name 'namedWindow' is not defined",
     "output_type": "error",
     "traceback": [
      "\u001b[0;31m---------------------------------------------------------------------------\u001b[0m",
      "\u001b[0;31mNameError\u001b[0m                                 Traceback (most recent call last)",
      "\u001b[0;32m<ipython-input-180-53f944fc5612>\u001b[0m in \u001b[0;36m<module>\u001b[0;34m\u001b[0m\n\u001b[1;32m      3\u001b[0m \u001b[0;34m\u001b[0m\u001b[0m\n\u001b[1;32m      4\u001b[0m \u001b[0mimg\u001b[0m \u001b[0;34m=\u001b[0m \u001b[0mcv2\u001b[0m\u001b[0;34m.\u001b[0m\u001b[0mimread\u001b[0m\u001b[0;34m(\u001b[0m\u001b[0margs\u001b[0m\u001b[0;34m.\u001b[0m\u001b[0mimage\u001b[0m\u001b[0;34m,\u001b[0m \u001b[0;36m0\u001b[0m\u001b[0;34m)\u001b[0m\u001b[0;34m\u001b[0m\u001b[0;34m\u001b[0m\u001b[0m\n\u001b[0;32m----> 5\u001b[0;31m \u001b[0mnamedWindow\u001b[0m\u001b[0;34m(\u001b[0m\u001b[0;34m\"Display window\"\u001b[0m\u001b[0;34m,\u001b[0m \u001b[0mWINDOW_NORMAL\u001b[0m \u001b[0;34m)\u001b[0m\u001b[0;34m\u001b[0m\u001b[0;34m\u001b[0m\u001b[0m\n\u001b[0m\u001b[1;32m      6\u001b[0m \u001b[0mcv2\u001b[0m\u001b[0;34m.\u001b[0m\u001b[0mimshow\u001b[0m\u001b[0;34m(\u001b[0m\u001b[0;34m\"Display window\"\u001b[0m\u001b[0;34m,\u001b[0m \u001b[0mimg\u001b[0m\u001b[0;34m)\u001b[0m\u001b[0;34m\u001b[0m\u001b[0;34m\u001b[0m\u001b[0m\n",
      "\u001b[0;31mNameError\u001b[0m: name 'namedWindow' is not defined"
     ]
    }
   ],
   "source": [
    "import numpy as np\n",
    "import cv2\n",
    "\n",
    "img = cv2.imread(args.image, 0)\n",
    "namedWindow(\"Display window\", WINDOW_NORMAL )\n",
    "cv2.imshow(\"Display window\", img)"
   ]
  },
  {
   "cell_type": "code",
   "execution_count": null,
   "metadata": {},
   "outputs": [],
   "source": []
  }
 ],
 "metadata": {
  "kernelspec": {
   "display_name": "Python 3",
   "language": "python",
   "name": "python3"
  },
  "language_info": {
   "codemirror_mode": {
    "name": "ipython",
    "version": 3
   },
   "file_extension": ".py",
   "mimetype": "text/x-python",
   "name": "python",
   "nbconvert_exporter": "python",
   "pygments_lexer": "ipython3",
   "version": "3.7.1"
  }
 },
 "nbformat": 4,
 "nbformat_minor": 2
}
